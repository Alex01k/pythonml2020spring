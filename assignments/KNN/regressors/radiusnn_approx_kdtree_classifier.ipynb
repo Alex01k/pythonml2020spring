{
 "cells": [
  {
   "cell_type": "markdown",
   "metadata": {},
   "source": [
    "## Классификация методом ближайших соседей"
   ]
  },
  {
   "cell_type": "markdown",
   "metadata": {},
   "source": [
    "#### 1.1 Необходимо реализовать класс для решения задачи классификации методом ближайших соседей"
   ]
  },
  {
   "cell_type": "code",
   "execution_count": 5,
   "metadata": {},
   "outputs": [],
   "source": [
    "class RadiusnnApproxKdtreeClassifier(object):\n",
    "    '''Классификатор реализует взвешенное голосование по ближайшим соседям. \n",
    "    При подсчете расcтояния используется l1-метрика.\n",
    "    Поиск ближайшего соседа осуществляется приближенным поиском по kd-дереву (без обратного хода).\n",
    "    Параметры\n",
    "    ----------\n",
    "    radius : float\n",
    "        Радиус, внутри которого идёт поиск ближайших соседей\n",
    "    weights : str, optional (default = 'uniform')\n",
    "        веса, используемые в голосовании. Возможные значения:\n",
    "        - 'uniform' : все веса равны.\n",
    "        - 'distance' : веса обратно пропорциональны расстоянию до классифицируемого объекта\n",
    "        -  функция, которая получает на вход массив расстояний и возвращает массив весов\n",
    "    leaf_size: int, optional\n",
    "        Максимально допустимый размер листа дерева\n",
    "    '''\n",
    "    def __init__(self, radius=1.0, weights='uniform', leaf_size=30):\n",
    "        pass\n",
    "     \n",
    "    def fit(self, x, y):\n",
    "        '''Обучение модели - построение kd-дерева\n",
    "        Парметры\n",
    "        ----------\n",
    "        x : двумерным массив признаков размера n_queries x n_features\n",
    "        y : массив/список правильных меток размера n_queries\n",
    "        Выход\n",
    "        -------\n",
    "        Метод возвращает обученную модель\n",
    "        '''\n",
    "        pass\n",
    "        \n",
    "    def predict(self, x):\n",
    "        \"\"\" Предсказание класс для входных объектов - поиск по kd-дереву ближайших соседей \n",
    "        и взвешенное голосование\n",
    "        Параметры\n",
    "        ----------\n",
    "        X : двумерным массив признаков размера n_queries x n_features\n",
    "        Выход\n",
    "        -------\n",
    "        y : Массив размера n_queries\n",
    "        \"\"\"\n",
    "        pass\n",
    "        \n",
    "    def predict_proba(self, X):\n",
    "        \"\"\"Возвращает вероятности классов для входных объектов\n",
    "        Параметры\n",
    "        ----------\n",
    "        X : двумерным массив признаков размера n_queries x n_features\n",
    "        Выход\n",
    "        -------\n",
    "        p : массив размера n_queries x n_classes] c вероятностями принадлежности \n",
    "        объекта к каждому классу\n",
    "        \"\"\"\n",
    "        pass\n",
    "        \n",
    "    def kneighbors(self, x, n_neighbors):\n",
    "        \"\"\"Возвращает n_neighbors ближайших соседей для всех входных объектов при помощи поска по kd-дереву\n",
    "        и расстояния до них\n",
    "        Параметры\n",
    "        ----------\n",
    "        X : двумерным массив признаков размера n_queries x n_features\n",
    "        Выход\n",
    "        -------\n",
    "        neigh_dist массив размера n_queries х n_neighbors\n",
    "        расстояния до ближайших элементов\n",
    "        neigh_indarray, массив размера n_queries x n_neighbors\n",
    "        индексы ближайших элементов\n",
    "        \"\"\"\n",
    "        pass\n",
    "        \n",
    "    def score(self, y_gt, y_pred):\n",
    "        \"\"\"Возвращает точность классификации\n",
    "        Параметры\n",
    "        ----------\n",
    "        y_gt : правильные метки объектов\n",
    "        y_pred: предсказанные метки объектов\n",
    "        Выход\n",
    "        -------\n",
    "        accuracy - точность классификации\n",
    "        \"\"\"\n",
    "        pass"
   ]
  },
  {
   "cell_type": "markdown",
   "metadata": {},
   "source": [
    "#### 1.2 Пример использования"
   ]
  },
  {
   "cell_type": "code",
   "execution_count": null,
   "metadata": {},
   "outputs": [],
   "source": [
    "#TODO init data\n",
    "knn = RadiusnnApproxKdtreeClassifier()\n",
    "knn.fit(trainX, trainY)\n",
    "y_pred = knn.predict(testX)\n",
    "acc = knn.score(testY, y_pred)\n",
    "print('Your accuracy is %s' % str(acc))\n"
   ]
  },
  {
   "cell_type": "markdown",
   "metadata": {},
   "source": [
    "#### 2. Покройте ваш класс тестами"
   ]
  },
  {
   "cell_type": "code",
   "execution_count": null,
   "metadata": {},
   "outputs": [],
   "source": []
  },
  {
   "cell_type": "markdown",
   "metadata": {},
   "source": [
    "#### 3. Примените ваш класс к самостоятельно подготовленной задаче восстановления регрессии и подберите оптимальные параметры для вашей модели"
   ]
  },
  {
   "cell_type": "code",
   "execution_count": null,
   "metadata": {},
   "outputs": [],
   "source": []
  }
 ],
 "metadata": {
  "kernelspec": {
   "display_name": "Python 3",
   "language": "python",
   "name": "python3"
  },
  "language_info": {
   "codemirror_mode": {
    "name": "ipython",
    "version": 3
   },
   "file_extension": ".py",
   "mimetype": "text/x-python",
   "name": "python",
   "nbconvert_exporter": "python",
   "pygments_lexer": "ipython3",
   "version": "3.7.3"
  }
 },
 "nbformat": 4,
 "nbformat_minor": 2
}
