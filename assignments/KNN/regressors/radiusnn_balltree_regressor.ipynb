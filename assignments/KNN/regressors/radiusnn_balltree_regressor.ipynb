{
 "cells": [
  {
   "cell_type": "markdown",
   "metadata": {},
   "source": [
    "## Восстановление регрессии методом ближайших соседей"
   ]
  },
  {
   "cell_type": "markdown",
   "metadata": {},
   "source": [
    "#### 1.1 Необходимо реализовать класс для решения задачи восстановлении регрессии методом ближайших соседей"
   ]
  },
  {
   "cell_type": "code",
   "execution_count": 5,
   "metadata": {},
   "outputs": [],
   "source": [
    "class RadiusnnBalltreeRegressor(object):\n",
    "    '''Регрессор реализует взвешенное усреднение по ближайшим соседям. \n",
    "    При подсчете расcтояния используется l2-метрика.\n",
    "    Поиск ближайшего соседа осуществляется поиском по метрическому дереву (ball tree).\n",
    "    Параметры\n",
    "    ----------\n",
    "    radius : float\n",
    "        Радиус, внутри которого идёт поиск ближайших соседей\n",
    "    weights : str, optional (default = 'uniform')\n",
    "        веса, используемые в голосовании. Возможные значения:\n",
    "        - 'uniform' : все веса равны.\n",
    "        - 'distance' : веса обратно пропорциональны расстоянию до классифицируемого объекта\n",
    "        -  функция, которая получает на вход массив расстояний и возвращает массив весов\n",
    "    leaf_size: int, optional\n",
    "        Максимально допустимый размер листа дерева\n",
    "    '''\n",
    "    def __init__(self, radius=1.0, weights='uniform', leaf_size=30):\n",
    "        pass\n",
    "     \n",
    "    def fit(self, x, y):\n",
    "        '''Обучение модели - построение kd-дерева\n",
    "        Парметры\n",
    "        ----------\n",
    "        x : двумерным массив признаков размера n_queries x n_features\n",
    "        y : массив/список правильных меток размера n_queries\n",
    "        Выход\n",
    "        -------\n",
    "        Метод возвращает обученную модель\n",
    "        '''\n",
    "        pass\n",
    "        \n",
    "    def predict(self, x):\n",
    "        \"\"\" Восстановление регрессии для входных объектов - поиск по метрическому дереву ближайших соседей \n",
    "        и взвешенное усреднение\n",
    "        Параметры\n",
    "        ----------\n",
    "        X : двумерным массив признаков размера n_queries x n_features\n",
    "        Выход\n",
    "        -------\n",
    "        y : Массив размера n_queries\n",
    "        \"\"\"\n",
    "        pass\n",
    "        \n",
    "\n",
    "        \n",
    "    def kneighbors(self, x, n_neighbors):\n",
    "        \"\"\"Возвращает n_neighbors ближайших соседей для всех входных объектов при помощи поска \n",
    "        по метрическому дереву и расстояния до них\n",
    "        Параметры\n",
    "        ----------\n",
    "        X : двумерным массив признаков размера n_queries x n_features\n",
    "        Выход\n",
    "        -------\n",
    "        neigh_dist массив размера n_queries х n_neighbors\n",
    "        расстояния до ближайших элементов\n",
    "        neigh_indarray, массив размера n_queries x n_neighbors\n",
    "        индексы ближайших элементов\n",
    "        \"\"\"\n",
    "        pass\n",
    "        \n",
    "    def score(self, y_gt, y_pred):\n",
    "        \"\"\"Возвращает среднеквадратичную ошибку восстановления регрессии\n",
    "        Параметры\n",
    "        ----------\n",
    "        y_gt : правильные метки объектов\n",
    "        y_pred: предсказанные метки объектов\n",
    "        Выход\n",
    "        -------\n",
    "        mse - среднеквадратичную ошибка восстановления регрессии\n",
    "        \"\"\"\n",
    "        pass"
   ]
  },
  {
   "cell_type": "markdown",
   "metadata": {},
   "source": [
    "#### 1.2 Пример использования"
   ]
  },
  {
   "cell_type": "code",
   "execution_count": null,
   "metadata": {},
   "outputs": [],
   "source": [
    "#TODO init data\n",
    "knn = RadiusnnBalltreeRegressor()\n",
    "knn.fit(trainX, trainY)\n",
    "y_pred = knn.predict(testX)\n",
    "mse = knn.score(testY, y_pred)\n",
    "print('Your mse is %s' % str(mse))\n"
   ]
  },
  {
   "cell_type": "markdown",
   "metadata": {},
   "source": [
    "#### 2. Покройте ваш класс тестами"
   ]
  },
  {
   "cell_type": "code",
   "execution_count": null,
   "metadata": {},
   "outputs": [],
   "source": []
  },
  {
   "cell_type": "markdown",
   "metadata": {},
   "source": [
    "#### 3. Примените ваш класс к самостоятельно подготовленной задаче восстановления регрессии и подберите оптимальные параметры для вашей модели"
   ]
  },
  {
   "cell_type": "code",
   "execution_count": null,
   "metadata": {},
   "outputs": [],
   "source": []
  }
 ],
 "metadata": {
  "kernelspec": {
   "display_name": "Python 3",
   "language": "python",
   "name": "python3"
  },
  "language_info": {
   "codemirror_mode": {
    "name": "ipython",
    "version": 3
   },
   "file_extension": ".py",
   "mimetype": "text/x-python",
   "name": "python",
   "nbconvert_exporter": "python",
   "pygments_lexer": "ipython3",
   "version": "3.7.3"
  }
 },
 "nbformat": 4,
 "nbformat_minor": 2
}
